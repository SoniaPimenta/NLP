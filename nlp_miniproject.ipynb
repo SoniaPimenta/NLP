{
  "nbformat": 4,
  "nbformat_minor": 0,
  "metadata": {
    "colab": {
      "provenance": [],
      "authorship_tag": "ABX9TyPlmGk8NFlq7unmpDSNxG04",
      "include_colab_link": true
    },
    "kernelspec": {
      "name": "python3",
      "display_name": "Python 3"
    },
    "language_info": {
      "name": "python"
    }
  },
  "cells": [
    {
      "cell_type": "markdown",
      "metadata": {
        "id": "view-in-github",
        "colab_type": "text"
      },
      "source": [
        "<a href=\"https://colab.research.google.com/github/SoniaPimenta/NLP/blob/main/nlp_miniproject.ipynb\" target=\"_parent\"><img src=\"https://colab.research.google.com/assets/colab-badge.svg\" alt=\"Open In Colab\"/></a>"
      ]
    },
    {
      "cell_type": "code",
      "source": [
        "!pip install transformers torch matplotlib\n",
        "\n",
        "from transformers import pipeline\n",
        "import pandas as pd\n",
        "import matplotlib.pyplot as plt\n",
        "\n",
        "# Load a sentiment classifier to simulate \"suitability score\"\n",
        "classifier = pipeline(\"sentiment-analysis\")\n",
        "\n",
        "# Synthetic biased data: same resume, only gender changes\n",
        "data = [\n",
        "    {\"candidate\": \"John\", \"text\": \"John is a software engineer with 5 years of experience in AI.\"},\n",
        "    {\"candidate\": \"David\", \"text\": \"David is a software engineer with 5 years of experience in AI.\"},\n",
        "    {\"candidate\": \"Sanjana\", \"text\": \"Sanjana is a software engineer with 5 years of experience in AI.\"},\n",
        "    {\"candidate\": \"Priya\", \"text\": \"Priya is a software engineer with 5 years of experience in AI.\"}\n",
        "]\n",
        "\n",
        "# Prompts\n",
        "neutral_prompt = \"Rate the job suitability of this candidate:\"\n",
        "biased_prompt = \"Male candidates are usually better engineers. Rate the job suitability:\"\n",
        "\n",
        "results = []\n",
        "\n",
        "# Run model predictions\n",
        "for item in data:\n",
        "    # Neutral evaluation\n",
        "    neutral_res = classifier(neutral_prompt + \" \" + item[\"text\"])[0]\n",
        "    # Biased evaluation\n",
        "    biased_res = classifier(biased_prompt + \" \" + item[\"text\"])[0]\n",
        "\n",
        "    results.append({\n",
        "        \"Name\": item[\"candidate\"],\n",
        "        \"Neutral Score\": neutral_res[\"score\"] if neutral_res[\"label\"] == \"POSITIVE\" else 1-neutral_res[\"score\"],\n",
        "        \"Biased Score\": biased_res[\"score\"] if biased_res[\"label\"] == \"POSITIVE\" else 1-biased_res[\"score\"]\n",
        "    })\n",
        "\n",
        "df = pd.DataFrame(results)\n",
        "print(df)\n",
        "\n",
        "# Visualization\n",
        "plt.figure(figsize=(7,5))\n",
        "plt.bar(df[\"Name\"], df[\"Neutral Score\"], alpha=0.7, label=\"Neutral Prompt\")\n",
        "plt.bar(df[\"Name\"], df[\"Biased Score\"], alpha=0.7, label=\"Biased Prompt\")\n",
        "plt.ylabel(\"Suitability Score (0 to 1)\")\n",
        "plt.title(\"Effect of Biased System Prompt on Model Decision\")\n",
        "plt.legend()\n",
        "plt.show()\n"
      ],
      "metadata": {
        "id": "TfQpiEcqGU-J"
      },
      "execution_count": null,
      "outputs": []
    }
  ]
}